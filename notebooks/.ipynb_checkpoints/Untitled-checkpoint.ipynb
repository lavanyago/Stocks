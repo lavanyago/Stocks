{
 "cells": [
  {
   "cell_type": "code",
   "execution_count": null,
   "metadata": {},
   "outputs": [],
   "source": [
    "!pip install altair\n",
    "!pip install vega==1.3"
   ]
  },
  {
   "cell_type": "code",
   "execution_count": 2,
   "metadata": {},
   "outputs": [
    {
     "ename": "ModuleNotFoundError",
     "evalue": "No module named 'altair'",
     "output_type": "error",
     "traceback": [
      "\u001b[1;31m---------------------------------------------------------------------------\u001b[0m",
      "\u001b[1;31mModuleNotFoundError\u001b[0m                       Traceback (most recent call last)",
      "\u001b[1;32m<ipython-input-2-b1d4a8c8d6fc>\u001b[0m in \u001b[0;36m<module>\u001b[1;34m\u001b[0m\n\u001b[0;32m      4\u001b[0m \u001b[0myf\u001b[0m\u001b[1;33m.\u001b[0m\u001b[0mpdr_override\u001b[0m\u001b[1;33m(\u001b[0m\u001b[1;33m)\u001b[0m\u001b[1;33m\u001b[0m\u001b[1;33m\u001b[0m\u001b[0m\n\u001b[0;32m      5\u001b[0m \u001b[1;32mimport\u001b[0m \u001b[0mpandas\u001b[0m \u001b[1;32mas\u001b[0m \u001b[0mpd\u001b[0m\u001b[1;33m\u001b[0m\u001b[1;33m\u001b[0m\u001b[0m\n\u001b[1;32m----> 6\u001b[1;33m \u001b[1;32mimport\u001b[0m \u001b[0maltair\u001b[0m \u001b[1;32mas\u001b[0m \u001b[0malt\u001b[0m\u001b[1;33m\u001b[0m\u001b[1;33m\u001b[0m\u001b[0m\n\u001b[0m\u001b[0;32m      7\u001b[0m \u001b[1;32mimport\u001b[0m \u001b[0maltair_viewer\u001b[0m\u001b[1;33m\u001b[0m\u001b[1;33m\u001b[0m\u001b[0m\n",
      "\u001b[1;31mModuleNotFoundError\u001b[0m: No module named 'altair'"
     ]
    }
   ],
   "source": [
    "from pandas_datareader import data as pdr\n",
    "from datetime import date\n",
    "import yfinance as yf\n",
    "yf.pdr_override()\n",
    "import pandas as pd\n",
    "import altair as alt\n",
    "import altair_viewer"
   ]
  },
  {
   "cell_type": "code",
   "execution_count": 3,
   "metadata": {},
   "outputs": [
    {
     "name": "stdout",
     "output_type": "stream",
     "text": [
      "[*********************100%***********************]  1 of 1 completed\n",
      "                 Open       High        Low      Close  Adj Close   Volume\n",
      "Date                                                                      \n",
      "2019-03-20  52.750000  53.500000  49.500000  49.799999  42.869854  2350800\n",
      "2019-03-21  49.990002  50.000000  48.200001  48.980000  42.163963  1764700\n",
      "2019-03-22  48.799999  49.950001  48.160000  48.599998  41.836853   844700\n",
      "2019-03-25  48.599998  49.400002  48.000000  49.150002  42.310314   440900\n",
      "2019-03-26  49.000000  49.750000  48.180000  48.849998  42.052063   504700\n",
      "...               ...        ...        ...        ...        ...      ...\n",
      "2022-01-31  59.500000  60.049999  58.279999  59.730000  59.730000  8056100\n",
      "2022-02-01  59.799999  61.990002  59.700001  61.810001  61.810001  6659400\n",
      "2022-02-02  61.709999  62.490002  61.119999  61.660000  61.660000  5463400\n",
      "2022-02-03  61.500000  62.445000  61.154999  61.209999  61.209999  5363800\n",
      "2022-02-04  61.200001  61.720001  60.540001  60.599998  60.599998  4994600\n",
      "\n",
      "[728 rows x 6 columns]\n"
     ]
    },
    {
     "ename": "NameError",
     "evalue": "name 'alt' is not defined",
     "output_type": "error",
     "traceback": [
      "\u001b[1;31m---------------------------------------------------------------------------\u001b[0m",
      "\u001b[1;31mNameError\u001b[0m                                 Traceback (most recent call last)",
      "\u001b[1;32m<ipython-input-3-ac30ed9e44b1>\u001b[0m in \u001b[0;36m<module>\u001b[1;34m\u001b[0m\n\u001b[0;32m     41\u001b[0m \u001b[1;31m#This loop will iterate over ticker list, will pass one ticker to get data, and save that data as file.\u001b[0m\u001b[1;33m\u001b[0m\u001b[1;33m\u001b[0m\u001b[1;33m\u001b[0m\u001b[0m\n\u001b[0;32m     42\u001b[0m \u001b[1;32mfor\u001b[0m \u001b[0mtik\u001b[0m \u001b[1;32min\u001b[0m \u001b[0mticker_list\u001b[0m\u001b[1;33m:\u001b[0m\u001b[1;33m\u001b[0m\u001b[1;33m\u001b[0m\u001b[0m\n\u001b[1;32m---> 43\u001b[1;33m     \u001b[0mgetData\u001b[0m\u001b[1;33m(\u001b[0m\u001b[0mtik\u001b[0m\u001b[1;33m)\u001b[0m\u001b[1;33m\u001b[0m\u001b[1;33m\u001b[0m\u001b[0m\n\u001b[0m\u001b[0;32m     44\u001b[0m \u001b[1;33m\u001b[0m\u001b[0m\n\u001b[0;32m     45\u001b[0m \u001b[1;32mfor\u001b[0m \u001b[0mi\u001b[0m \u001b[1;32min\u001b[0m \u001b[0mrange\u001b[0m\u001b[1;33m(\u001b[0m\u001b[1;36m0\u001b[0m\u001b[1;33m,\u001b[0m\u001b[1;36m1\u001b[0m\u001b[1;33m)\u001b[0m\u001b[1;33m:\u001b[0m\u001b[1;33m\u001b[0m\u001b[1;33m\u001b[0m\u001b[0m\n",
      "\u001b[1;32m<ipython-input-3-ac30ed9e44b1>\u001b[0m in \u001b[0;36mgetData\u001b[1;34m(ticker)\u001b[0m\n\u001b[0;32m     27\u001b[0m     \u001b[0mfiles\u001b[0m\u001b[1;33m.\u001b[0m\u001b[0mappend\u001b[0m\u001b[1;33m(\u001b[0m\u001b[0mdataname\u001b[0m\u001b[1;33m)\u001b[0m\u001b[1;33m\u001b[0m\u001b[1;33m\u001b[0m\u001b[0m\n\u001b[0;32m     28\u001b[0m     \u001b[0mprint\u001b[0m\u001b[1;33m(\u001b[0m\u001b[0mdata\u001b[0m\u001b[1;33m)\u001b[0m\u001b[1;33m\u001b[0m\u001b[1;33m\u001b[0m\u001b[0m\n\u001b[1;32m---> 29\u001b[1;33m     chart = alt.Chart(data).mark_line().encode(\n\u001b[0m\u001b[0;32m     30\u001b[0m         \u001b[0mx\u001b[0m\u001b[1;33m=\u001b[0m\u001b[0malt\u001b[0m\u001b[1;33m.\u001b[0m\u001b[0mX\u001b[0m\u001b[1;33m(\u001b[0m\u001b[1;34m'Date:T'\u001b[0m\u001b[1;33m,\u001b[0m \u001b[0maxis\u001b[0m \u001b[1;33m=\u001b[0m \u001b[0malt\u001b[0m\u001b[1;33m.\u001b[0m\u001b[0mAxis\u001b[0m\u001b[1;33m(\u001b[0m\u001b[0mtitle\u001b[0m \u001b[1;33m=\u001b[0m \u001b[1;34m'Date'\u001b[0m\u001b[1;33m.\u001b[0m\u001b[0mupper\u001b[0m\u001b[1;33m(\u001b[0m\u001b[1;33m)\u001b[0m\u001b[1;33m,\u001b[0m \u001b[0mformat\u001b[0m \u001b[1;33m=\u001b[0m \u001b[1;33m(\u001b[0m\u001b[1;34m\"%m\"\u001b[0m\u001b[1;33m)\u001b[0m\u001b[1;33m)\u001b[0m\u001b[1;33m)\u001b[0m\u001b[1;33m,\u001b[0m\u001b[1;33m\u001b[0m\u001b[1;33m\u001b[0m\u001b[0m\n\u001b[0;32m     31\u001b[0m         \u001b[0my\u001b[0m\u001b[1;33m=\u001b[0m\u001b[1;34m'Close'\u001b[0m\u001b[1;33m\u001b[0m\u001b[1;33m\u001b[0m\u001b[0m\n",
      "\u001b[1;31mNameError\u001b[0m: name 'alt' is not defined"
     ]
    }
   ],
   "source": [
    "\n",
    "# data = pdr.get_data_yahoo(\"SPY\", start=\"2017-01-01\", end=\"2017-04-30\")\n",
    "# print(data.info())\n",
    "# Tickers list\n",
    "# We can add and delete any ticker from the list to get desired ticker live data\n",
    "# ticker_list=['^DJI', 'DOW', 'LB', 'EXPE', 'PXD', 'MCHP', 'CRM', 'JEC' , 'NRG', 'HFC', 'NOW']\n",
    "ticker_list=[\"DOW\",\"CRM\"]\n",
    "\n",
    "today = date.today()\n",
    "\n",
    "# We can get data by our choice by giving days bracket\n",
    "start_date= \"2017-01-01\"\n",
    "end_date=\"2019-12-31\"\n",
    "files=[]\n",
    "\n",
    "\n",
    "# Create a data folder in your current dir.\n",
    "def SaveData(df, filename):\n",
    "    df.to_csv('./data/'+filename+'.csv')\n",
    "\n",
    "def SaveImage(chart,ticker):\n",
    "    chart.save('./data/'+ticker+'.png')\n",
    "\n",
    "def getData(ticker):\n",
    "\n",
    "    data = pdr.get_data_yahoo(ticker, start=start_date, end=today)\n",
    "    dataname= ticker+'_'+str(today)\n",
    "    files.append(dataname)\n",
    "    print(data)\n",
    "    chart = alt.Chart(data).mark_line().encode(\n",
    "        x=alt.X('Date:T', axis = alt.Axis(title = 'Date'.upper(), format = (\"%m\"))),\n",
    "        y='Close'\n",
    "    )\n",
    "    altair_viewer.display(chart)\n",
    "    s = './data/'+ticker+'.png'\n",
    "    print (s)\n",
    "    chart.save(s)\n",
    "    # SaveImage(chart,ticker)\n",
    "    SaveData(data, dataname)\n",
    "\n",
    "\n",
    "#This loop will iterate over ticker list, will pass one ticker to get data, and save that data as file.\n",
    "for tik in ticker_list:\n",
    "    getData(tik)\n",
    "\n",
    "for i in range(0,1):\n",
    "    df1= pd.read_csv('./data/'+ str(files[i])+'.csv')\n",
    "    print (df1.head())"
   ]
  },
  {
   "cell_type": "code",
   "execution_count": null,
   "metadata": {},
   "outputs": [],
   "source": []
  }
 ],
 "metadata": {
  "kernelspec": {
   "display_name": "Python 3",
   "language": "python",
   "name": "python3"
  },
  "language_info": {
   "codemirror_mode": {
    "name": "ipython",
    "version": 3
   },
   "file_extension": ".py",
   "mimetype": "text/x-python",
   "name": "python",
   "nbconvert_exporter": "python",
   "pygments_lexer": "ipython3",
   "version": "3.8.3"
  }
 },
 "nbformat": 4,
 "nbformat_minor": 4
}
