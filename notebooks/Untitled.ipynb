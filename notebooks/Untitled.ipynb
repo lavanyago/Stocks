{
 "cells": [
  {
   "cell_type": "code",
   "execution_count": null,
   "metadata": {},
   "outputs": [],
   "source": []
  },
  {
   "cell_type": "code",
   "execution_count": 2,
   "metadata": {},
   "outputs": [
    {
     "ename": "ModuleNotFoundError",
     "evalue": "No module named 'altair_saver'",
     "output_type": "error",
     "traceback": [
      "\u001b[1;31m---------------------------------------------------------------------------\u001b[0m",
      "\u001b[1;31mModuleNotFoundError\u001b[0m                       Traceback (most recent call last)",
      "\u001b[1;32m<ipython-input-2-bcedaf16dda7>\u001b[0m in \u001b[0;36m<module>\u001b[1;34m\u001b[0m\n\u001b[0;32m      4\u001b[0m \u001b[0myf\u001b[0m\u001b[1;33m.\u001b[0m\u001b[0mpdr_override\u001b[0m\u001b[1;33m(\u001b[0m\u001b[1;33m)\u001b[0m\u001b[1;33m\u001b[0m\u001b[1;33m\u001b[0m\u001b[0m\n\u001b[0;32m      5\u001b[0m \u001b[1;32mimport\u001b[0m \u001b[0mpandas\u001b[0m \u001b[1;32mas\u001b[0m \u001b[0mpd\u001b[0m\u001b[1;33m\u001b[0m\u001b[1;33m\u001b[0m\u001b[0m\n\u001b[1;32m----> 6\u001b[1;33m \u001b[1;32mfrom\u001b[0m \u001b[0maltair_saver\u001b[0m \u001b[1;32mimport\u001b[0m \u001b[0msave\u001b[0m\u001b[1;33m\u001b[0m\u001b[1;33m\u001b[0m\u001b[0m\n\u001b[0m\u001b[0;32m      7\u001b[0m \u001b[1;33m\u001b[0m\u001b[0m\n",
      "\u001b[1;31mModuleNotFoundError\u001b[0m: No module named 'altair_saver'"
     ]
    }
   ],
   "source": [
    "from pandas_datareader import data as pdr\n",
    "from datetime import date\n",
    "import yfinance as yf\n",
    "yf.pdr_override()\n",
    "import pandas as pd\n",
    "from altair_saver import save\n",
    "\n"
   ]
  },
  {
   "cell_type": "code",
   "execution_count": 5,
   "metadata": {},
   "outputs": [],
   "source": [
    "import altair as alt"
   ]
  },
  {
   "cell_type": "code",
   "execution_count": null,
   "metadata": {},
   "outputs": [],
   "source": []
  },
  {
   "cell_type": "code",
   "execution_count": 6,
   "metadata": {},
   "outputs": [],
   "source": [
    "\n",
    "# data = pdr.get_data_yahoo(\"SPY\", start=\"2017-01-01\", end=\"2017-04-30\")\n",
    "# print(data.info())\n",
    "# Tickers list\n",
    "# We can add and delete any ticker from the list to get desired ticker live data\n",
    "# ticker_list=['^DJI', 'DOW', 'LB', 'EXPE', 'PXD', 'MCHP', 'CRM', 'JEC' , 'NRG', 'HFC', 'NOW']\n",
    "ticker_list=[\"DOW\",\"CRM\"]\n",
    "\n",
    "today = date.today()\n",
    "\n",
    "# We can get data by our choice by giving days bracket\n",
    "start_date= \"2017-01-01\"\n",
    "end_date=\"2019-12-31\"\n",
    "files=[]\n",
    "\n"
   ]
  },
  {
   "cell_type": "code",
   "execution_count": 10,
   "metadata": {},
   "outputs": [
    {
     "name": "stdout",
     "output_type": "stream",
     "text": [
      "[*********************100%***********************]  1 of 1 completed\n",
      "                 Open       High        Low      Close  Adj Close   Volume\n",
      "Date                                                                      \n",
      "2019-03-20  52.750000  53.500000  49.500000  49.799999  42.869854  2350800\n",
      "2019-03-21  49.990002  50.000000  48.200001  48.980000  42.163967  1764700\n",
      "2019-03-22  48.799999  49.950001  48.160000  48.599998  41.836853   844700\n",
      "2019-03-25  48.599998  49.400002  48.000000  49.150002  42.310314   440900\n",
      "2019-03-26  49.000000  49.750000  48.180000  48.849998  42.052059   504700\n",
      "...               ...        ...        ...        ...        ...      ...\n",
      "2022-01-31  59.500000  60.049999  58.279999  59.730000  59.730000  8056100\n",
      "2022-02-01  59.799999  61.990002  59.700001  61.810001  61.810001  6659400\n",
      "2022-02-02  61.709999  62.490002  61.119999  61.660000  61.660000  5463400\n",
      "2022-02-03  61.500000  62.445000  61.154999  61.209999  61.209999  5363800\n",
      "2022-02-04  61.200001  61.720001  60.540001  60.599998  60.599998  4994600\n",
      "\n",
      "[728 rows x 6 columns]\n",
      "./data/DOW.png\n",
      "[*********************100%***********************]  1 of 1 completed\n",
      "                  Open        High         Low       Close   Adj Close  \\\n",
      "Date                                                                     \n",
      "2017-01-03   69.290001   70.860001   69.000000   70.540001   70.540001   \n",
      "2017-01-04   71.080002   73.070000   70.760002   72.800003   72.800003   \n",
      "2017-01-05   72.809998   73.660004   72.529999   72.790001   72.790001   \n",
      "2017-01-06   72.889999   74.129997   72.550003   73.800003   73.800003   \n",
      "2017-01-09   74.050003   74.440002   73.510002   73.959999   73.959999   \n",
      "...                ...         ...         ...         ...         ...   \n",
      "2022-01-31  222.949997  232.910004  222.259995  232.630005  232.630005   \n",
      "2022-02-01  232.369995  232.779999  226.320007  232.119995  232.119995   \n",
      "2022-02-02  233.740005  234.490005  223.020004  225.009995  225.009995   \n",
      "2022-02-03  218.070007  220.789993  210.399994  212.770004  212.770004   \n",
      "2022-02-04  214.990005  221.669998  213.190002  219.229996  219.229996   \n",
      "\n",
      "              Volume  \n",
      "Date                  \n",
      "2017-01-03   8112200  \n",
      "2017-01-04   9289500  \n",
      "2017-01-05   4695600  \n",
      "2017-01-06   4466100  \n",
      "2017-01-09   3933100  \n",
      "...              ...  \n",
      "2022-01-31   7084200  \n",
      "2022-02-01   6387100  \n",
      "2022-02-02   9378900  \n",
      "2022-02-03  12826600  \n",
      "2022-02-04   6175400  \n",
      "\n",
      "[1283 rows x 6 columns]\n",
      "./data/CRM.png\n",
      "         Date       Open       High        Low      Close  Adj Close   Volume\n",
      "0  2019-03-20  52.750000  53.500000  49.500000  49.799999  42.869854  2350800\n",
      "1  2019-03-21  49.990002  50.000000  48.200001  48.980000  42.163967  1764700\n",
      "2  2019-03-22  48.799999  49.950001  48.160000  48.599998  41.836853   844700\n",
      "3  2019-03-25  48.599998  49.400002  48.000000  49.150002  42.310314   440900\n",
      "4  2019-03-26  49.000000  49.750000  48.180000  48.849998  42.052059   504700\n"
     ]
    },
    {
     "data": {
      "image/png": "[encoded data removed]",
      "text/plain": [
       "<Figure size 432x288 with 1 Axes>"
      ]
     },
     "metadata": {
      "needs_background": "light"
     },
     "output_type": "display_data"
    }
   ],
   "source": [
    "\n",
    "# Create a data folder in your current dir.\n",
    "def SaveData(df, filename):\n",
    "    df.to_csv('./data/'+filename+'.csv')\n",
    "\n",
    "def SaveImage(chart,ticker):\n",
    "    chart.save('./data/'+ticker+'.png')\n",
    "\n",
    "def getData(ticker):\n",
    "\n",
    "    data = pdr.get_data_yahoo(ticker, start=start_date, end=today)\n",
    "\n",
    "\n",
    "    dataname= ticker+'_'+str(today)\n",
    "    files.append(dataname)\n",
    "    print(data)\n",
    "    alt.Chart(data).mark_line().encode(\n",
    "        x=alt.X('Date:T', axis = alt.Axis(title = 'Date'.upper(), format = (\"%m\"))),\n",
    "        y='Close'\n",
    "    )\n",
    "#     altair_viewer.display(chart)\n",
    "    s = './data/'+ticker+'.png'\n",
    "    print (s)\n",
    "#     chart.save(s)\n",
    "    # SaveImage(chart,ticker)\n",
    "    SaveData(data, dataname)\n",
    "\n",
    "\n",
    "#This loop will iterate over ticker list, will pass one ticker to get data, and save that data as file.\n",
    "for tik in ticker_list:\n",
    "    getData(tik)\n",
    "\n",
    "for i in range(0,1):\n",
    "    df1= pd.read_csv('./data/'+ str(files[i])+'.csv')\n",
    "    print (df1.head())"
   ]
  },
  {
   "cell_type": "code",
   "execution_count": 12,
   "metadata": {},
   "outputs": [
    {
     "name": "stdout",
     "output_type": "stream",
     "text": [
      "[*********************100%***********************]  1 of 1 completed\n"
     ]
    },
    {
     "data": {
      "text/plain": [
       "<matplotlib.axes._subplots.AxesSubplot at 0x1e7abd55b50>"
      ]
     },
     "execution_count": 12,
     "metadata": {},
     "output_type": "execute_result"
    },
    {
     "data": {
      "image/png": "[encoded data removed]",
      "text/plain": [
       "<Figure size 432x288 with 1 Axes>"
      ]
     },
     "metadata": {
      "needs_background": "light"
     },
     "output_type": "display_data"
    }
   ],
   "source": [
    "data = pdr.get_data_yahoo(\"DOW\", start=start_date, end=today)\n",
    "data['Close'].plot()\n",
    "plt.figure(figsize=(10,10))\n",
    "plt.plot(df.index, df['close'])\n",
    "plt.xlabel(\"date\")\n",
    "plt.ylabel(\"$ price\")\n",
    "plt.title(\"DIS Stock Price 1/1/17 - 8/1/19\")"
   ]
  },
  {
   "cell_type": "code",
   "execution_count": null,
   "metadata": {},
   "outputs": [],
   "source": []
  }
 ],
 "metadata": {
  "kernelspec": {
   "display_name": "Python 3",
   "language": "python",
   "name": "python3"
  },
  "language_info": {
   "codemirror_mode": {
    "name": "ipython",
    "version": 3
   },
   "file_extension": ".py",
   "mimetype": "text/x-python",
   "name": "python",
   "nbconvert_exporter": "python",
   "pygments_lexer": "ipython3",
   "version": "3.8.3"
  }
 },
 "nbformat": 4,
 "nbformat_minor": 4
}
